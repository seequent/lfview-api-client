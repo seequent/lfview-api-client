{
 "cells": [
  {
   "cell_type": "code",
   "execution_count": 1,
   "metadata": {},
   "outputs": [],
   "source": [
    "from lfview.resources import files, manifests, spatial, scene"
   ]
  },
  {
   "cell_type": "code",
   "execution_count": 2,
   "metadata": {},
   "outputs": [],
   "source": [
    "from lfview import client"
   ]
  },
  {
   "cell_type": "code",
   "execution_count": 3,
   "metadata": {},
   "outputs": [],
   "source": [
    "session = client.Session(api_key='eyJ0eXAiOiJKV1QiLCJhbGciOiJIUzI1NiJ9.eyJpYXQiOiIxNTYxNjgyNDUwIiwic2NvcGVzIjpbIm9yZ3MucHJvamVjdHMucmVhZCIsInByb2plY3Qudmlld3Mud3JpdGUiLCJwcm9qZWN0Lm1lbWJlcnMucmVhZCIsInByb2plY3Quc3BhdGlhbC5yZWFkIiwidmlldy5tZW1iZXJzLnJlYWQiLCJ1c2VyLmluZm8ucmVhZCIsInByb2plY3Quc3BhdGlhbC53cml0ZSIsIm9yZ3MubWVtYmVycy5yZWFkIiwidmlldy5tZW1iZXJzLndyaXRlIiwicHJvamVjdC5maWxlcy53cml0ZSIsInByb2plY3QuZmlsZXMucmVhZCIsInZpZXcubWVtYmVycy5kZWxldGUiLCJ1c2VyLnRlcm1zLmFjY2VwdCIsIm9yZ3MucHJvamVjdHMud3JpdGUiLCJ1c2VyLm9iamVjdHMucmVhZCIsInByb2plY3Qudmlld3MuZGVsZXRlIiwicHJvamVjdC52aWV3cy5yZWFkIiwicHJvamVjdC52aWV3cy5jcmVhdGUiXSwic2lkIjoiZXBkZ20xdWlrYnV5cmJ6eW8zZGoiLCJ1aWQiOiJhZGFlMXhuZW1pbHk3cWc4cmh4eCIsImVtYWlsIjoibWF0dGhhdXMud29vbGFyZCtvY204MGd3bnJnZXBydDVieHFjbTJ3Y3A1bmlyZXFvNEBzZWVxdWVudC5jb20iLCJkaXNwbGF5X25hbWUiOiJUXHUwMTAzbmcgUGVsY292XHUwMGUxIiwibW9kZSI6InByaXZpbGVnZWQiLCJleHAiOiIxNTYxNzQyNDUwIiwiaXNzIjoibWUifQ.FcnCHO20ZWnsQGqO3ehwWtRX5dRktXiq-W4m5_2SIs4', endpoint='http://localhost:8910')"
   ]
  },
  {
   "cell_type": "code",
   "execution_count": 4,
   "metadata": {},
   "outputs": [],
   "source": [
    "import numpy as np"
   ]
  },
  {
   "cell_type": "code",
   "execution_count": 5,
   "metadata": {},
   "outputs": [],
   "source": [
    "data_base = spatial.DataBasic(array=np.array([1, 2, 3, 4, 5], dtype=np.float64))"
   ]
  },
  {
   "cell_type": "code",
   "execution_count": null,
   "metadata": {},
   "outputs": [],
   "source": []
  },
  {
   "cell_type": "code",
   "execution_count": 6,
   "metadata": {},
   "outputs": [],
   "source": [
    "url = session.upload(data_base.array)"
   ]
  },
  {
   "cell_type": "code",
   "execution_count": null,
   "metadata": {},
   "outputs": [],
   "source": []
  },
  {
   "cell_type": "code",
   "execution_count": null,
   "metadata": {},
   "outputs": [],
   "source": []
  },
  {
   "cell_type": "code",
   "execution_count": 7,
   "metadata": {},
   "outputs": [],
   "source": [
    "r = session.session.get(url)"
   ]
  },
  {
   "cell_type": "code",
   "execution_count": 8,
   "metadata": {},
   "outputs": [
    {
     "data": {
      "text/plain": [
       "{'content_type': 'application/octet-stream',\n",
       " 'type': 'files/array',\n",
       " 'shape': [5],\n",
       " 'content_length': 38,\n",
       " 'dtype': 'Float64Array',\n",
       " 'uid': 's32de41emq98quacnk10',\n",
       " 'links': {'location': 'https://storage.googleapis.com/seequent-firebase-testing.appspot.com/Org/xitpwzuwxqpeh9zsep4z/Project/fcrvsztvxbs5j2wtuo8w/Provider/seequent/Component/files/Array/s32de41emq98quacnk10/v0.bin?GoogleAccessId=remote-firebase-access%40seequent-firebase-testing.iam.gserviceaccount.com&Expires=1561687912&Signature=hJCMHD%2FwgGxkf73m4IlKMqxaNB%2FVaCYSbh9T5BvTDwZjFlS%2FW%2Br0oPX5EMLyEjhyIvBaIdscd7gqBRGLxcrRrbrGHhiYOb%2FwYEii6sSC%2FKKWa1vwaL7CQ1FXEF70prDP3%2FeTHWHCTsestiPFlI8yMnEmE8f8e4vvtpMQb1L8ei5gJmXU4rXdMY2Xx6FcpjRgTkcDnuDIGqHVCX31QrUEu8RvWkuCWyUFWsZY69J%2BnLFJXbmzhjm07pfqPogb2eQdKJKwIwivM%2FYHuSXULgVXmAqD1S7A72cD%2FjjJliqHkEVEqZrvGTHej8AwjnU%2Fu9p4huZYoLZ6OqRNXP1WOMkv5g%3D%3D',\n",
       "  'self': 'http://localhost:8910/api/v1/project/adae1xnemily7qg8rhxx/default/files/array/s32de41emq98quacnk10'}}"
      ]
     },
     "execution_count": 8,
     "metadata": {},
     "output_type": "execute_result"
    }
   ],
   "source": [
    "r.json()"
   ]
  },
  {
   "cell_type": "code",
   "execution_count": 9,
   "metadata": {},
   "outputs": [
    {
     "data": {
      "text/plain": [
       "array([1., 2., 3., 4., 5.])"
      ]
     },
     "execution_count": 9,
     "metadata": {},
     "output_type": "execute_result"
    }
   ],
   "source": [
    "session.download(url).array"
   ]
  },
  {
   "cell_type": "code",
   "execution_count": 33,
   "metadata": {},
   "outputs": [
    {
     "data": {
      "text/plain": [
       "array([1., 2., 3., 4., 5.])"
      ]
     },
     "execution_count": 33,
     "metadata": {},
     "output_type": "execute_result"
    }
   ],
   "source": []
  },
  {
   "cell_type": "code",
   "execution_count": null,
   "metadata": {},
   "outputs": [],
   "source": []
  }
 ],
 "metadata": {
  "kernelspec": {
   "display_name": "Python 3",
   "language": "python",
   "name": "python3"
  },
  "language_info": {
   "codemirror_mode": {
    "name": "ipython",
    "version": 3
   },
   "file_extension": ".py",
   "mimetype": "text/x-python",
   "name": "python",
   "nbconvert_exporter": "python",
   "pygments_lexer": "ipython3",
   "version": "3.7.0"
  }
 },
 "nbformat": 4,
 "nbformat_minor": 2
}

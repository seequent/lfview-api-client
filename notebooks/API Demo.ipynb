{
 "cells": [
  {
   "cell_type": "markdown",
   "metadata": {},
   "source": [
    "# API Python Demo\n",
    "\n",
    "Uploading a slide programmatically"
   ]
  },
  {
   "cell_type": "code",
   "execution_count": null,
   "metadata": {},
   "outputs": [],
   "source": [
    "import requests"
   ]
  },
  {
   "cell_type": "markdown",
   "metadata": {},
   "source": [
    "### Security Headers\n",
    "\n",
    "This token identifies my user and authorizes me to perform certain actions in the API."
   ]
  },
  {
   "cell_type": "code",
   "execution_count": null,
   "metadata": {},
   "outputs": [],
   "source": [
    "token = ''\n",
    "headers = {'Authorization': f'bearer {token}'}"
   ]
  },
  {
   "cell_type": "markdown",
   "metadata": {},
   "source": [
    "### Download the slide\n",
    "\n",
    "Here, we hit the API, download the slide, read it into Python, and clean up some of the response-specific fields."
   ]
  },
  {
   "cell_type": "code",
   "execution_count": null,
   "metadata": {},
   "outputs": [],
   "source": [
    "resp = requests.get(\n",
    "    \"https://lfview.com/api/v1/view/ibsnjt5onj6qjlceabzz/default/gwdcabrf9w97xsylmxer/slides/c21vz4vks79cjdjc4690\",\n",
    "    headers=headers\n",
    ")\n",
    "slide = resp.json()"
   ]
  },
  {
   "cell_type": "code",
   "execution_count": null,
   "metadata": {},
   "outputs": [],
   "source": [
    "keys_to_remove = [\n",
    "    'author', 'date_created', 'date_modified',\n",
    "    'feedback', 'links', 'type', 'uid', \n",
    "]\n",
    "for key in keys_to_remove:\n",
    "    slide.pop(key)"
   ]
  },
  {
   "cell_type": "markdown",
   "metadata": {},
   "source": [
    "### Edit the slide"
   ]
  },
  {
   "cell_type": "code",
   "execution_count": null,
   "metadata": {},
   "outputs": [],
   "source": [
    "slide['name'] = 'Ore Bodies Only'\n",
    "\n",
    "slide['scene']['plots'][0]['views'][0]['visible'] = False\n",
    "slide['scene']['plots'][0]['views'][1]['visible'] = False\n",
    "slide['scene']['plots'][0]['views'][2]['visible'] = False\n",
    "\n",
    "slide['annotations'] = []"
   ]
  },
  {
   "cell_type": "markdown",
   "metadata": {},
   "source": [
    "### Upload the new slide"
   ]
  },
  {
   "cell_type": "code",
   "execution_count": null,
   "metadata": {},
   "outputs": [],
   "source": [
    "resp = requests.post(\n",
    "    \"https://lfview.com/api/v1/view/ibsnjt5onj6qjlceabzz/default/gwdcabrf9w97xsylmxer/slides\",\n",
    "    json=slide,\n",
    "    headers=headers\n",
    ")\n",
    "assert resp.ok"
   ]
  },
  {
   "cell_type": "code",
   "execution_count": null,
   "metadata": {},
   "outputs": [],
   "source": []
  }
 ],
 "metadata": {
  "kernelspec": {
   "display_name": "Python 3",
   "language": "python",
   "name": "python3"
  },
  "language_info": {
   "codemirror_mode": {
    "name": "ipython",
    "version": 3
   },
   "file_extension": ".py",
   "mimetype": "text/x-python",
   "name": "python",
   "nbconvert_exporter": "python",
   "pygments_lexer": "ipython3",
   "version": "3.7.0"
  }
 },
 "nbformat": 4,
 "nbformat_minor": 2
}

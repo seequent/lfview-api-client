{
 "cells": [
  {
   "cell_type": "markdown",
   "metadata": {},
   "source": [
    "# Test Notebook"
   ]
  },
  {
   "cell_type": "code",
   "execution_count": 1,
   "metadata": {},
   "outputs": [],
   "source": [
    "token = 'eyJ0eXAiOiJKV1QiLCJhbGciOiJIUzI1NiJ9.eyJpYXQiOiIxNTUyNDY5MjQxIiwic2NvcGVzIjpbInVzZXIuYXBpa2V5cy5jcmVhdGUiLCJ2aWV3LnNsaWRlcy5jcmVhdGUiLCJvcmdzLnJlYWQiLCJ2aWV3LnNsaWRlcy53cml0ZSIsIm9yZ3MuY3JlYXRlIiwib3Jncy5saXN0Iiwidmlldy5mZWVkYmFjay53cml0ZSIsIm9yZ3MucHJvamVjdHMucmVhZCIsInZpZXcuZmVlZGJhY2sucmVhZCIsIm9yZ3Mud3JpdGUiLCJ1c2VyLnZpZXdzLmxlYXZlIiwicHJvamVjdC5tZW1iZXJzLndyaXRlIiwidXNlci5pbmZvLnJlYWQiLCJvcmdzLm1lbWJlcnMud3JpdGUiLCJ2aWV3LmZlZWRiYWNrLmRlbGV0ZSIsIm9yZ3MubWVtYmVycy5yZWFkIiwicGxhdGZvcm0uYWRtaW4ud3JpdGUiLCJ2aWV3Lm1lbWJlcnMuZGVsZXRlIiwib3Jncy5wcm9qZWN0cy5kZWxldGUiLCJwbGF0Zm9ybS5hZG1pbi5yZWFkIiwib3Jncy5wcm9qZWN0cy5jcmVhdGUiLCJ2aWV3Lmludml0ZXMuY3JlYXRlIiwidXNlci50ZXJtcy5hY2NlcHQiLCJwcm9qZWN0Lm1lbWJlcnMucmVhZCIsInVzZXIub2JqZWN0cy5yZWFkIiwib3Jncy5wcm9qZWN0cy53cml0ZSIsInZpZXcuaW52aXRlcy5kZWxldGUiLCJ2aWV3Lm1lbWJlcnMud3JpdGUiLCJ2aWV3Lm1lbWJlcnMucmVhZCIsInByb2plY3QuZmlsZXMucmVhZCIsInZpZXcuc2V0dGluZ3MucHVibGljLndyaXRlIiwidmlldy5zZXR0aW5ncy5wdWJsaWMucmVhZCIsInByb2plY3Qudmlld3MuY3JlYXRlIiwidmlldy5pbnZpdGVzLndyaXRlIiwidmlldy5pbnZpdGVzLnJlYWQiLCJwcm9qZWN0LnNwYXRpYWwud3JpdGUiLCJ2aWV3LnNwYXRpYWwucmVhZCIsInByb2plY3Quc3BhdGlhbC5yZWFkIiwidmlldy5zbGlkZXMucmVhZCIsInByb2plY3Qudmlld3MucmVhZCIsInByb2plY3QuZmlsZXMud3JpdGUiLCJ2aWV3LnNsaWRlcy5kZWxldGUiLCJwcm9qZWN0LnZpZXdzLndyaXRlIiwicHJvamVjdC52aWV3cy5kZWxldGUiLCJ2aWV3LmZpbGVzLnJlYWQiLCJ2aWV3LmZlZWRiYWNrLmNyZWF0ZSIsInZpZXcuc3BhdGlhbC53cml0ZSJdLCJzaWQiOiJmNm9rMHB6bWM0bzBibTh3bWhieSIsInVpZCI6Imlic25qdDVvbmo2cWpsY2VhYnp6IiwiZW1haWwiOiJmcmFua2xpbi5rb2NoQHNlZXF1ZW50LmNvbSIsImRpc3BsYXlfbmFtZSI6IkZyYW5rbGluIEtvY2giLCJtb2RlIjoiYXBpIiwiZXhwIjoiMTU4NDAwNTI0MSIsImlzcyI6Imh0dHBzOi8vbGZ2aWV3LmNvbS9pZGVudGl0eSJ9.C43pSky2GMyjo0DazYGzM0yayUt-bQeM6eiUgaStYRA'"
   ]
  },
  {
   "cell_type": "code",
   "execution_count": 2,
   "metadata": {},
   "outputs": [],
   "source": [
    "from steno3d.examples import Wolfpass\n",
    "Wolfpass.fetch_data(verbose=False)"
   ]
  },
  {
   "cell_type": "code",
   "execution_count": 3,
   "metadata": {},
   "outputs": [],
   "source": [
    "proj = Wolfpass.get_project_dacite()\n",
    "for resource in proj.resources:\n",
    "    resource.data = []"
   ]
  },
  {
   "cell_type": "code",
   "execution_count": 4,
   "metadata": {},
   "outputs": [],
   "source": [
    "from seequent.client import convert\n",
    "view = convert.steno3d_to_view(proj)"
   ]
  },
  {
   "cell_type": "code",
   "execution_count": 5,
   "metadata": {},
   "outputs": [],
   "source": [
    "from seequent.client import Session\n",
    "session = Session(token)"
   ]
  },
  {
   "cell_type": "code",
   "execution_count": 6,
   "metadata": {},
   "outputs": [
    {
     "name": "stdout",
     "output_type": "stream",
     "text": [
      "uploading Array\n",
      "uploading binary array data\n",
      "success!\n",
      "uploading Array\n",
      "uploading binary array data\n",
      "success!\n",
      "uploading ElementLineSet\n",
      "success!\n",
      "uploading Array\n",
      "uploading binary array data\n",
      "success!\n",
      "uploading Array\n",
      "uploading binary array data\n",
      "success!\n",
      "uploading ElementSurface\n",
      "success!\n",
      "uploading Array\n",
      "uploading binary array data\n",
      "success!\n",
      "uploading Array\n",
      "uploading binary array data\n",
      "success!\n",
      "uploading ElementSurface\n",
      "success!\n",
      "uploading View\n",
      "uploading thumbnail\n",
      "success!\n"
     ]
    }
   ],
   "source": [
    "view_url = session.upload(view, verbose=True, thumbnail='/usr/src/app/deps/blah.png')"
   ]
  },
  {
   "cell_type": "code",
   "execution_count": 7,
   "metadata": {},
   "outputs": [
    {
     "name": "stdout",
     "output_type": "stream",
     "text": [
      "https://lfview.com/api/v1/project/ibsnjt5onj6qjlceabzz/default/views/o5n8hi61h6s70q92g67b\n"
     ]
    }
   ],
   "source": [
    "print(view_url)"
   ]
  },
  {
   "cell_type": "code",
   "execution_count": null,
   "metadata": {},
   "outputs": [],
   "source": [
    "view_url = 'https://lfview.com/api/v1/project/ibsnjt5onj6qjlceabzz/default/views/dujunkngm6wcroyu2jm6'"
   ]
  },
  {
   "cell_type": "code",
   "execution_count": 10,
   "metadata": {},
   "outputs": [
    {
     "data": {
      "text/plain": [
       "'https://lfview.com/api/v1/project/ibsnjt5onj6qjlceabzz/default/elements/lineset/d6o8vtsxvx4836svhp41'"
      ]
     },
     "execution_count": 10,
     "metadata": {},
     "output_type": "execute_result"
    }
   ],
   "source": [
    "view.elements[0]._url"
   ]
  },
  {
   "cell_type": "code",
   "execution_count": 4,
   "metadata": {},
   "outputs": [],
   "source": [
    "elem_url = 'https://lfview.com/api/v1/project/ibsnjt5onj6qjlceabzz/default/elements/lineset/d6o8vtsxvx4836svhp41'"
   ]
  },
  {
   "cell_type": "code",
   "execution_count": 8,
   "metadata": {},
   "outputs": [],
   "source": [
    "from seequent.resources import scene\n",
    "slide = scene.Slide(\n",
    "    scene=scene.Scene(\n",
    "#         lights=[],\n",
    "        camera=scene.CameraStandard(\n",
    "            mode='orthographic',\n",
    "            target=[0., 0., 0],\n",
    "            radius=5.,\n",
    "            zoom=1.,\n",
    "            rotation=[0, 0, 0, 1.],\n",
    "        ),\n",
    "        plots=[\n",
    "            scene.Plot(\n",
    "                views=[\n",
    "                    scene.Lines(\n",
    "                        element=view.elements[0]._url,\n",
    "                        opacity={\n",
    "                            'value': 1.,\n",
    "                        },\n",
    "                        color={\n",
    "                            'value': 'red',\n",
    "                        },\n",
    "                    ),\n",
    "                    scene.Surface(\n",
    "                        element=view.elements[1]._url,\n",
    "                        opacity={\n",
    "                            'value': 1.,\n",
    "                        },\n",
    "                        color={\n",
    "                            'value': 'red',\n",
    "                        },\n",
    "                        visible=False,\n",
    "                    ),\n",
    "                    scene.Surface(\n",
    "                        element=view.elements[2]._url,\n",
    "                        opacity={\n",
    "                            'value': 1.,\n",
    "                        },\n",
    "                        color={\n",
    "                            'value': 'red',\n",
    "                        },\n",
    "                        visible=False,\n",
    "                    ),\n",
    "                ],\n",
    "            ),\n",
    "        ],\n",
    "    ),\n",
    "#     annotations=[],\n",
    ")"
   ]
  },
  {
   "cell_type": "code",
   "execution_count": 9,
   "metadata": {},
   "outputs": [
    {
     "name": "stdout",
     "output_type": "stream",
     "text": [
      "uploading Slide\n",
      "uploading thumbnail\n",
      "success!\n"
     ]
    }
   ],
   "source": [
    "slide_url = session.upload_slide(slide, view_url, thumbnail='/usr/src/app/deps/blah.png')"
   ]
  },
  {
   "cell_type": "code",
   "execution_count": 7,
   "metadata": {},
   "outputs": [
    {
     "name": "stdout",
     "output_type": "stream",
     "text": [
      "uploading Feedback\n",
      "success!\n"
     ]
    }
   ],
   "source": [
    "feedback_url = session.upload_feedback('hmmmm', slide_url)"
   ]
  },
  {
   "cell_type": "code",
   "execution_count": 8,
   "metadata": {},
   "outputs": [
    {
     "data": {
      "text/plain": [
       "{'annotations': [],\n",
       " 'scene': {'camera': {'mode': 'orthographic',\n",
       "   'target': [0.0, 0.0, 0.0],\n",
       "   'radius': 5.0,\n",
       "   'zoom': 1.0,\n",
       "   'rotation': [0.0, 0.0, 0.0, 1.0],\n",
       "   'up_direction': [0.0, 0.0, 1.0]},\n",
       "  'plots': [{'position': [0.0, 0.0, 0.0],\n",
       "    'scale': [1.0, 1.0, 1.0],\n",
       "    'rotation': [0.0, 0.0, 0.0, 1.0],\n",
       "    'lims': [[0.0, 1e-05], [0.0, 1e-05], [0.0, 1e-05]],\n",
       "    'exaggeration': [1, 1, 1],\n",
       "    'slice_groups': [{'uid': 'slice_group',\n",
       "      'slices': [{'uid': 'slice',\n",
       "        'position_a': [0.0, 0.0, 0.0],\n",
       "        'position_b': [0.0, 0.0, 0.0],\n",
       "        'normal': [1.0, 0.0, 0.0],\n",
       "        'mode': 'inactive',\n",
       "        'color_a': '#0078FF',\n",
       "        'color_b': '#FD6600'}],\n",
       "      'style': 'intersection'}],\n",
       "    'measurements': [],\n",
       "    'views': [{'visible': True,\n",
       "      'opacity': {'value': 1.0},\n",
       "      'color': {'value': '#FF0000'},\n",
       "      'slice_group': 'slice_group',\n",
       "      'element': 'https://lfview.com/api/v1/project/ibsnjt5onj6qjlceabzz/default/elements/lineset/d6o8vtsxvx4836svhp41'}]}],\n",
       "  'lights': []},\n",
       " 'annotation_plane': {'origin': [-2.5, -2.5, 0.0],\n",
       "  'axis_u': [5.0, 0.0, 0.0],\n",
       "  'axis_v': [0.0, 5.0, 0.0]}}"
      ]
     },
     "execution_count": 8,
     "metadata": {},
     "output_type": "execute_result"
    }
   ],
   "source": [
    "slide.serialize(include_class=False)"
   ]
  },
  {
   "cell_type": "code",
   "execution_count": 127,
   "metadata": {},
   "outputs": [],
   "source": [
    "slide = session.download('https://lfview.com/api/v1/view/ibsnjt5onj6qjlceabzz/default/aoe69k86ij5icx3ugbxl/slides/e69vgyufmn9qhh9xagcu')"
   ]
  },
  {
   "cell_type": "code",
   "execution_count": 132,
   "metadata": {},
   "outputs": [],
   "source": [
    "slide.annotation_plane.origin = [-0.9752901223129272, 0.8764152817177986, 2.0647050148789674]\n",
    "slide.annotation_plane.axis_u = [3.21830384150745, -0.49533907162202706, -1.1669457237656937]\n",
    "slide.annotation_plane.axis_v = [-1.2677235968815956, -1.2574914918135702, -2.962464305992241]"
   ]
  },
  {
   "cell_type": "code",
   "execution_count": 98,
   "metadata": {},
   "outputs": [],
   "source": [
    "slide.annotation_plane.axis_v[2] = -slide.annotation_plane.axis_v[2]"
   ]
  },
  {
   "cell_type": "code",
   "execution_count": 49,
   "metadata": {},
   "outputs": [],
   "source": [
    "from seequent.resources import scene"
   ]
  },
  {
   "cell_type": "code",
   "execution_count": 50,
   "metadata": {},
   "outputs": [],
   "source": [
    "slide.scene.plots[0].views = [slide.scene.plots[0].views[0]]"
   ]
  },
  {
   "cell_type": "code",
   "execution_count": 25,
   "metadata": {},
   "outputs": [],
   "source": [
    "slide.scene.plots[0].views[0].element = 'https://lfview.com/api/v1/project/ibsnjt5onj6qjlceabzz/default/elements/pointset/vm9rid2mbb6sauw0zfgw'"
   ]
  },
  {
   "cell_type": "code",
   "execution_count": 54,
   "metadata": {},
   "outputs": [],
   "source": [
    "del slide.scene.plots[0].slice_groups[0].slices[0].position_b\n",
    "del slide.scene.plots[0].slice_groups[0].slices[0].color_b"
   ]
  },
  {
   "cell_type": "code",
   "execution_count": 44,
   "metadata": {},
   "outputs": [
    {
     "data": {
      "text/plain": [
       "{'scene': {'camera': {'up_direction': [0.0, 0.0, 1.0],\n",
       "   'target': [0.0, 0.0, 0.0],\n",
       "   'zoom': 1.0,\n",
       "   'radius': 5.0,\n",
       "   'mode': 'orthographic',\n",
       "   'rotation': [0.0, 0.0, 0.0, 1.0]},\n",
       "  'lights': [],\n",
       "  'plots': [{'position': [0.0, 0.0, 0.0],\n",
       "    'scale': [1.0, 1.0, 1.0],\n",
       "    'rotation': [0.0, 0.0, 0.0, 1.0],\n",
       "    'lims': [[0.0, 1e-05], [0.0, 1e-05], [0.0, 1e-05]],\n",
       "    'exaggeration': [1, 1, 1],\n",
       "    'slice_groups': [],\n",
       "    'measurements': [],\n",
       "    'views': [{'visible': True,\n",
       "      'opacity': {'value': 1.0},\n",
       "      'color': {'value': '#9467BD'},\n",
       "      'element': 'https://lfview.com/api/v1/project/ibsnjt5onj6qjlceabzz/default/elements/pointset/vm9rid2mbb6sauw0zfgw',\n",
       "      'slice_group': 'slice_group'}]}]},\n",
       " 'annotations': [],\n",
       " 'description': '',\n",
       " 'name': '',\n",
       " 'annotation_plane': {'origin': [-2.47939563592275, 2.493131868131868, 0.0],\n",
       "  'axis_u': [4.94505500793457, 0.0, 0.0],\n",
       "  'axis_v': [0.0, -5.0, 0.0]},\n",
       " 'uid': 'kc8tya7omgbah191ldm3'}"
      ]
     },
     "execution_count": 44,
     "metadata": {},
     "output_type": "execute_result"
    }
   ],
   "source": [
    "slide.serialize(include_class=False)"
   ]
  },
  {
   "cell_type": "code",
   "execution_count": 45,
   "metadata": {},
   "outputs": [],
   "source": [
    "from seequent.client.utils import touch"
   ]
  },
  {
   "cell_type": "code",
   "execution_count": 133,
   "metadata": {},
   "outputs": [],
   "source": [
    "touch(slide)"
   ]
  },
  {
   "cell_type": "code",
   "execution_count": 134,
   "metadata": {},
   "outputs": [
    {
     "name": "stdout",
     "output_type": "stream",
     "text": [
      "updating Slide\n",
      "success!\n"
     ]
    },
    {
     "data": {
      "text/plain": [
       "'https://lfview.com/api/v1/view/ibsnjt5onj6qjlceabzz/default/aoe69k86ij5icx3ugbxl/slides/e69vgyufmn9qhh9xagcu'"
      ]
     },
     "execution_count": 134,
     "metadata": {},
     "output_type": "execute_result"
    }
   ],
   "source": [
    "session.upload_slide(slide, view_url)"
   ]
  },
  {
   "cell_type": "code",
   "execution_count": 128,
   "metadata": {},
   "outputs": [],
   "source": [
    "radius = 5.\n",
    "zoom = 1.4455092088915662\n",
    "rotation = [\n",
    "-0.819251457547553,\n",
    "0.15553974910242976,\n",
    "0.10294951412289877,\n",
    "0.5422507107392504\n",
    "]\n",
    "target = [0., 0., 0.]\n",
    "origin = [0., 0., 0.]"
   ]
  },
  {
   "cell_type": "code",
   "execution_count": 129,
   "metadata": {},
   "outputs": [],
   "source": [
    "import math"
   ]
  },
  {
   "cell_type": "code",
   "execution_count": 130,
   "metadata": {},
   "outputs": [],
   "source": [
    "def dot(v1, v2):\n",
    "    return v1[0]*v2[0] + v1[1]*v2[1] + v1[2]*v2[2]\n",
    "\n",
    "def mag(v):\n",
    "    \n",
    "    return (v[0]*v[0] + v[1]*v[1] + v[2]*v[2])**0.5\n",
    "\n",
    "def angle_between(v1, v2):\n",
    "    return math.acos(dot(v1, v2)/(mag(v1)*mag(v2)))\n",
    "\n",
    "def rotate_parallel(v1, v2):\n",
    "    print(v1)\n",
    "    print(v2)\n",
    "    return mag(v1) * dot(v1, v2)"
   ]
  },
  {
   "cell_type": "code",
   "execution_count": 131,
   "metadata": {},
   "outputs": [
    {
     "name": "stdout",
     "output_type": "stream",
     "text": [
      "[3.21830384150745, -0.49533907162202706, -1.1669457237656937]\n",
      "[-1.2677235968815956, -1.2574914918135702, -2.962464305992241]\n",
      "[-0.9752901223129272, 0.8764152817177986, 2.0647050148789674]\n"
     ]
    }
   ],
   "source": [
    "qi, qj, qk, qr = rotation\n",
    "s = 1\n",
    "# s = 1/(qi*qi + qj*qj + qk*qk + qr*qr)**0.5\n",
    "axis_length = radius / zoom\n",
    "input_axes = [[axis_length, 0., 0.], [0., axis_length, 0.]]\n",
    "output_axes = [[\n",
    "    (1-2*s*(qj*qj+qk*qk))*axis[0] + 2*s*(qi*qj-qk*qr)*axis[1] + 2*s*(qi*qk+qj*qr)*axis[2],\n",
    "    2*s*(qi*qj+qk*qr)*axis[0] + (1-2*s*(qi*qi+qk*qk))*axis[1] + 2*s*(qj*qk-qi*qr)*axis[2],\n",
    "    2*s*(qi*qk-qj*qr)*axis[0] + 2*s*(qj*qk+qi*qr)*axis[1] + (1-2*s*(qi*qi+qj*qj))*axis[2],\n",
    "] for axis in input_axes]\n",
    "u = output_axes[0]\n",
    "v = output_axes[1]\n",
    "# new_u_dir = [u[0], u[1], 0.]\n",
    "# u = [val * mag(u)/mag(new_u_dir) for val in new_u_dir]\n",
    "o = [\n",
    "    origin[0] - u[0]/2 - v[0]/2,\n",
    "    origin[1] - u[1]/2 - v[1]/2,\n",
    "    origin[2] - u[2]/2 - v[2]/2,\n",
    "]\n",
    "# output_axes[0] = rotate_parallel(output_axes[0], [1., 1., 0])\n",
    "print(u)\n",
    "print(v)\n",
    "print(o)"
   ]
  },
  {
   "cell_type": "code",
   "execution_count": 69,
   "metadata": {},
   "outputs": [
    {
     "data": {
      "text/plain": [
       "27.048447293698764"
      ]
     },
     "execution_count": 69,
     "metadata": {},
     "output_type": "execute_result"
    }
   ],
   "source": [
    "(18.874*18.874 + 19.375*19.375)**.5"
   ]
  },
  {
   "cell_type": "code",
   "execution_count": 87,
   "metadata": {},
   "outputs": [
    {
     "data": {
      "text/plain": [
       "3.459010722933241"
      ]
     },
     "execution_count": 87,
     "metadata": {},
     "output_type": "execute_result"
    }
   ],
   "source": [
    "5/1.4455"
   ]
  },
  {
   "cell_type": "code",
   "execution_count": 88,
   "metadata": {},
   "outputs": [
    {
     "data": {
      "text/plain": [
       "0.49843599999999993"
      ]
     },
     "execution_count": 88,
     "metadata": {},
     "output_type": "execute_result"
    }
   ],
   "source": [
    ".706*.706"
   ]
  },
  {
   "cell_type": "code",
   "execution_count": 6,
   "metadata": {},
   "outputs": [],
   "source": [
    "from seequent import *"
   ]
  },
  {
   "cell_type": "code",
   "execution_count": 7,
   "metadata": {},
   "outputs": [
    {
     "data": {
      "text/plain": [
       "<module 'seequent.resources' from '/usr/local/lib/python3.6/site-packages/seequent/resources/__init__.py'>"
      ]
     },
     "execution_count": 7,
     "metadata": {},
     "output_type": "execute_result"
    }
   ],
   "source": [
    "resources"
   ]
  },
  {
   "cell_type": "code",
   "execution_count": 1,
   "metadata": {},
   "outputs": [],
   "source": [
    "from lfview.resources import scene"
   ]
  },
  {
   "cell_type": "code",
   "execution_count": 2,
   "metadata": {},
   "outputs": [],
   "source": [
    "from lfview import resources"
   ]
  },
  {
   "cell_type": "code",
   "execution_count": 4,
   "metadata": {},
   "outputs": [
    {
     "data": {
      "text/plain": [
       "seequent.resources.scene.slide.AnnotationInk"
      ]
     },
     "execution_count": 4,
     "metadata": {},
     "output_type": "execute_result"
    }
   ],
   "source": [
    "resources.scene.AnnotationInk"
   ]
  },
  {
   "cell_type": "code",
   "execution_count": 5,
   "metadata": {},
   "outputs": [],
   "source": [
    "from lfview.client import *"
   ]
  },
  {
   "cell_type": "code",
   "execution_count": 6,
   "metadata": {},
   "outputs": [
    {
     "data": {
      "text/plain": [
       "seequent.client.session.Session"
      ]
     },
     "execution_count": 6,
     "metadata": {},
     "output_type": "execute_result"
    }
   ],
   "source": [
    "Session"
   ]
  },
  {
   "cell_type": "code",
   "execution_count": null,
   "metadata": {},
   "outputs": [],
   "source": [
    "session = Session(\"eyJ0eXAiOiJKV1QiLCJhbGciOiJIUzI1NiJ9.eyJpYXQiOiIxNTUxMjEzMTA1Iiwic2NvcGVzIjpbInZpZXcuc2xpZGVzLndyaXRlIiwib3Jncy5jcmVhdGUiLCJ2aWV3LnNsaWRlcy5kZWxldGUiLCJwcm9qZWN0LnZpZXdzLndyaXRlIiwidmlldy5zbGlkZXMucmVhZCIsInZpZXcuZmlsZXMucmVhZCIsInBsYXRmb3JtLmFkbWluLnJlYWQiLCJvcmdzLnByb2plY3RzLmNyZWF0ZSIsInZpZXcuZmVlZGJhY2suZGVsZXRlIiwib3Jncy5saXN0Iiwidmlldy5zbGlkZXMuY3JlYXRlIiwib3Jncy5wcm9qZWN0cy53cml0ZSIsInZpZXcuc3BhdGlhbC5yZWFkIiwib3Jncy53cml0ZSIsIm9yZ3MucmVhZCIsInZpZXcuZmVlZGJhY2suY3JlYXRlIiwib3Jncy5tZW1iZXJzLndyaXRlIiwidmlldy5mZWVkYmFjay53cml0ZSIsInZpZXcubWVtYmVycy5yZWFkIiwib3Jncy5tZW1iZXJzLnJlYWQiLCJ2aWV3LnNldHRpbmdzLnB1YmxpYy5yZWFkIiwidXNlci5vYmplY3RzLnJlYWQiLCJvcmdzLnByb2plY3RzLnJlYWQiLCJ1c2VyLmFwaWtleXMuY3JlYXRlIiwib3Jncy5wcm9qZWN0cy5kZWxldGUiLCJ1c2VyLmluZm8ucmVhZCIsInByb2plY3QubWVtYmVycy53cml0ZSIsInByb2plY3QubWVtYmVycy5yZWFkIiwicGxhdGZvcm0uYWRtaW4ud3JpdGUiLCJ2aWV3Lm1lbWJlcnMuZGVsZXRlIiwidXNlci52aWV3cy5sZWF2ZSIsInZpZXcubWVtYmVycy53cml0ZSIsInVzZXIudGVybXMuYWNjZXB0Iiwidmlldy5pbnZpdGVzLmNyZWF0ZSIsInZpZXcuaW52aXRlcy5yZWFkIiwidmlldy5zZXR0aW5ncy5wdWJsaWMud3JpdGUiLCJwcm9qZWN0LnNwYXRpYWwucmVhZCIsInByb2plY3QuZmlsZXMud3JpdGUiLCJwcm9qZWN0LnZpZXdzLmNyZWF0ZSIsInByb2plY3QuZmlsZXMucmVhZCIsInZpZXcuaW52aXRlcy5kZWxldGUiLCJwcm9qZWN0LnZpZXdzLmRlbGV0ZSIsInZpZXcuc3BhdGlhbC53cml0ZSIsInZpZXcuaW52aXRlcy53cml0ZSIsInByb2plY3Quc3BhdGlhbC53cml0ZSIsInZpZXcuZmVlZGJhY2sucmVhZCIsInByb2plY3Qudmlld3MucmVhZCJdLCJzaWQiOiJyaGE1dXJjMmk5Ynd4em5rampvciIsInVpZCI6Imlic25qdDVvbmo2cWpsY2VhYnp6IiwiZW1haWwiOiJmcmFua2xpbi5rb2NoQHNlZXF1ZW50LmNvbSIsImRpc3BsYXlfbmFtZSI6IkZyYW5rbGluIEtvY2giLCJtb2RlIjoiYXBpIiwiZXhwIjoiMTU4Mjc0OTEwNSIsImlzcyI6Imh0dHBzOi8vbGZ2aWV3LmNvbS9pZGVudGl0eSJ9.KSa4NrkNVVyYvUfZCYAcmvIsMNPYcYnM4-gFp90SkBs\")\n"
   ]
  },
  {
   "cell_type": "code",
   "execution_count": 88,
   "metadata": {},
   "outputs": [],
   "source": [
    "from seequent.resources import files, spatial, manifests\n",
    "from seequent.client import Session\n",
    "\n",
    "\n",
    "def build_view():\n",
    "    point_set = spatial.ElementPointSet(\n",
    "        name='Example PointSet Element',\n",
    "        vertices=files.Array([\n",
    "            [0., 0, 0],\n",
    "            [1, 1, 1],\n",
    "            [2, 2, 2],\n",
    "        ]),\n",
    "        data=[\n",
    "            spatial.DataBasic(\n",
    "                name='Example PointSet Attribute',\n",
    "                array=files.Array([-10., 0, 10]),\n",
    "                location='nodes',\n",
    "            ),\n",
    "            spatial.DataBasic(\n",
    "                name='Example PointSet Attribute',\n",
    "                mappings=[\n",
    "                    spatial.MappingDiscrete(\n",
    "                        values=[1, 2],\n",
    "                        end_points=[0.5],\n",
    "                        end_inclusive=[True],\n",
    "                        visibility=[True]*2,\n",
    "                    ),\n",
    "                    spatial.MappingDiscrete(\n",
    "                        values=['r', 'b'],\n",
    "                        end_points=[0.5],\n",
    "                        end_inclusive=[True],\n",
    "                        visibility=[True]*2,\n",
    "                    ),\n",
    "                ],\n",
    "                array=files.Array([0., 1, 2]),\n",
    "                location='nodes',\n",
    "            ),\n",
    "        ]\n",
    "    )\n",
    "    \n",
    "#     point_set.defaults.color.data = point_set.data[1]\n",
    "#     point_set.defaults.color.mapping = point_set.data[1].mappings[1]\n",
    "\n",
    "    view = manifests.View(\n",
    "        name='Example View - Categories',\n",
    "        elements=[\n",
    "            point_set,\n",
    "        ],\n",
    "    )\n",
    "    return view"
   ]
  },
  {
   "cell_type": "code",
   "execution_count": 89,
   "metadata": {},
   "outputs": [],
   "source": [
    "v = build_view()"
   ]
  },
  {
   "cell_type": "code",
   "execution_count": 90,
   "metadata": {},
   "outputs": [
    {
     "data": {
      "text/plain": [
       "{'visible': True,\n",
       " 'opacity': {'value': 1.0},\n",
       " 'color': {'value': '#FF7FE0',\n",
       "  'data': {'mappings': [{'values': [1.0, 2.0],\n",
       "     'end_points': [0.5],\n",
       "     'end_inclusive': [True],\n",
       "     'visibility': [True, True]},\n",
       "    {'values': ['#FF0000', '#0000FF'],\n",
       "     'end_points': [0.5],\n",
       "     'end_inclusive': [True],\n",
       "     'visibility': [True, True]}],\n",
       "   'name': 'Example PointSet Attribute',\n",
       "   'array': {'content_type': 'application/octet-stream',\n",
       "    'dtype': 'Float64Array',\n",
       "    'shape': [3],\n",
       "    'content_length': 24},\n",
       "   'location': 'nodes'},\n",
       "  'mapping': {'values': ['#FF0000', '#0000FF'],\n",
       "   'end_points': [0.5],\n",
       "   'end_inclusive': [True],\n",
       "   'visibility': [True, True]}},\n",
       " '__class__': 'OptionsPoints'}"
      ]
     },
     "execution_count": 90,
     "metadata": {},
     "output_type": "execute_result"
    }
   ],
   "source": [
    "v.elements[0].defaults.serialize()"
   ]
  },
  {
   "cell_type": "code",
   "execution_count": 91,
   "metadata": {},
   "outputs": [
    {
     "ename": "ValueError",
     "evalue": "{\"message\": \"Validation failed\", \"errors\": [{\"message\": \"The Union property 'defaults' of a PostRequest instance must be an instance of OptionsPoints or an instance of OptionsText. An invalid value of <resources_spatial.options.OptionsPoints object at 0x7f00dc04f208> <class 'resources_spatial.options.OptionsPoints'> was specified. Possible explanation:\\n    - Mapping on visualization options must also be presenton the data object\\n    - The InstanceSnapshot property 'defaults' of a PostRequest instance must be an instance of OptionsText. An invalid value of <resources_spatial.options.OptionsPoints object at 0x7f00dc04f208> <class 'resources_spatial.options.OptionsPoints'> was specified.\", \"code\": \"invalid\", \"field\": \"defaults\", \"resource\": \"elements/pointset\"}]}",
     "output_type": "error",
     "traceback": [
      "\u001b[0;31m---------------------------------------------------------------------------\u001b[0m",
      "\u001b[0;31mValueError\u001b[0m                                Traceback (most recent call last)",
      "\u001b[0;32m<ipython-input-91-9a8d1f2fb724>\u001b[0m in \u001b[0;36m<module>\u001b[0;34m\u001b[0m\n\u001b[0;32m----> 1\u001b[0;31m \u001b[0murl\u001b[0m \u001b[0;34m=\u001b[0m \u001b[0msession\u001b[0m\u001b[0;34m.\u001b[0m\u001b[0mupload\u001b[0m\u001b[0;34m(\u001b[0m\u001b[0mbuild_view\u001b[0m\u001b[0;34m(\u001b[0m\u001b[0;34m)\u001b[0m\u001b[0;34m)\u001b[0m\u001b[0;34m\u001b[0m\u001b[0;34m\u001b[0m\u001b[0m\n\u001b[0m",
      "\u001b[0;32m/usr/src/app/seequent/client/session.py\u001b[0m in \u001b[0;36mupload\u001b[0;34m(self, resource, verbose, update_contents, thumbnail, chunk_size)\u001b[0m\n\u001b[1;32m    252\u001b[0m             \u001b[0mverbose\u001b[0m\u001b[0;34m=\u001b[0m\u001b[0mverbose\u001b[0m\u001b[0;34m,\u001b[0m\u001b[0;34m\u001b[0m\u001b[0;34m\u001b[0m\u001b[0m\n\u001b[1;32m    253\u001b[0m             \u001b[0mchunk_size\u001b[0m\u001b[0;34m=\u001b[0m\u001b[0mchunk_size\u001b[0m\u001b[0;34m,\u001b[0m\u001b[0;34m\u001b[0m\u001b[0;34m\u001b[0m\u001b[0m\n\u001b[0;32m--> 254\u001b[0;31m             \u001b[0mupdate_contents\u001b[0m\u001b[0;34m=\u001b[0m\u001b[0mupdate_contents\u001b[0m\u001b[0;34m\u001b[0m\u001b[0;34m\u001b[0m\u001b[0m\n\u001b[0m\u001b[1;32m    255\u001b[0m         )\n\u001b[1;32m    256\u001b[0m         output_url = self._upload(\n",
      "\u001b[0;32m/usr/src/app/seequent/client/session.py\u001b[0m in \u001b[0;36m_construct_upload_dict\u001b[0;34m(self, resource, **upload_kwargs)\u001b[0m\n\u001b[1;32m    204\u001b[0m                         \u001b[0murl\u001b[0m \u001b[0;34m=\u001b[0m \u001b[0mval\u001b[0m\u001b[0;34m\u001b[0m\u001b[0;34m\u001b[0m\u001b[0m\n\u001b[1;32m    205\u001b[0m                     \u001b[0;32melse\u001b[0m\u001b[0;34m:\u001b[0m\u001b[0;34m\u001b[0m\u001b[0;34m\u001b[0m\u001b[0m\n\u001b[0;32m--> 206\u001b[0;31m                         \u001b[0murl\u001b[0m \u001b[0;34m=\u001b[0m \u001b[0mself\u001b[0m\u001b[0;34m.\u001b[0m\u001b[0mupload\u001b[0m\u001b[0;34m(\u001b[0m\u001b[0mval\u001b[0m\u001b[0;34m,\u001b[0m \u001b[0;34m**\u001b[0m\u001b[0mupload_kwargs\u001b[0m\u001b[0;34m)\u001b[0m\u001b[0;34m\u001b[0m\u001b[0;34m\u001b[0m\u001b[0m\n\u001b[0m\u001b[1;32m    207\u001b[0m                     \u001b[0mjson_list\u001b[0m\u001b[0;34m.\u001b[0m\u001b[0mappend\u001b[0m\u001b[0;34m(\u001b[0m\u001b[0murl\u001b[0m\u001b[0;34m)\u001b[0m\u001b[0;34m\u001b[0m\u001b[0;34m\u001b[0m\u001b[0m\n\u001b[1;32m    208\u001b[0m                 \u001b[0mjson_dict\u001b[0m\u001b[0;34m.\u001b[0m\u001b[0mupdate\u001b[0m\u001b[0;34m(\u001b[0m\u001b[0;34m{\u001b[0m\u001b[0mname\u001b[0m\u001b[0;34m:\u001b[0m \u001b[0mjson_list\u001b[0m\u001b[0;34m}\u001b[0m\u001b[0;34m)\u001b[0m\u001b[0;34m\u001b[0m\u001b[0;34m\u001b[0m\u001b[0m\n",
      "\u001b[0;32m/usr/src/app/seequent/client/session.py\u001b[0m in \u001b[0;36mupload\u001b[0;34m(self, resource, verbose, update_contents, thumbnail, chunk_size)\u001b[0m\n\u001b[1;32m    260\u001b[0m             \u001b[0mjson_dict\u001b[0m\u001b[0;34m=\u001b[0m\u001b[0mjson_dict\u001b[0m\u001b[0;34m,\u001b[0m\u001b[0;34m\u001b[0m\u001b[0;34m\u001b[0m\u001b[0m\n\u001b[1;32m    261\u001b[0m             \u001b[0mpost_url\u001b[0m\u001b[0;34m=\u001b[0m\u001b[0mPROJECT_UPLOAD_URL\u001b[0m\u001b[0;34m,\u001b[0m\u001b[0;34m\u001b[0m\u001b[0;34m\u001b[0m\u001b[0m\n\u001b[0;32m--> 262\u001b[0;31m             \u001b[0mthumbnail\u001b[0m\u001b[0;34m=\u001b[0m\u001b[0mthumbnail\u001b[0m\u001b[0;34m,\u001b[0m\u001b[0;34m\u001b[0m\u001b[0;34m\u001b[0m\u001b[0m\n\u001b[0m\u001b[1;32m    263\u001b[0m         )\n\u001b[1;32m    264\u001b[0m         \u001b[0;32mreturn\u001b[0m \u001b[0moutput_url\u001b[0m\u001b[0;34m\u001b[0m\u001b[0;34m\u001b[0m\u001b[0m\n",
      "\u001b[0;32m/usr/src/app/seequent/client/session.py\u001b[0m in \u001b[0;36m_upload\u001b[0;34m(self, resource, verbose, chunk_size, json_dict, post_url, thumbnail)\u001b[0m\n\u001b[1;32m    408\u001b[0m             \u001b[0;32mreturn\u001b[0m \u001b[0mresource\u001b[0m\u001b[0;34m.\u001b[0m\u001b[0m_url\u001b[0m\u001b[0;34m\u001b[0m\u001b[0;34m\u001b[0m\u001b[0m\n\u001b[1;32m    409\u001b[0m         \u001b[0;32mif\u001b[0m \u001b[0;32mnot\u001b[0m \u001b[0mresp\u001b[0m\u001b[0;34m.\u001b[0m\u001b[0mok\u001b[0m\u001b[0;34m:\u001b[0m\u001b[0;34m\u001b[0m\u001b[0;34m\u001b[0m\u001b[0m\n\u001b[0;32m--> 410\u001b[0;31m             \u001b[0;32mraise\u001b[0m \u001b[0mValueError\u001b[0m\u001b[0;34m(\u001b[0m\u001b[0mresp\u001b[0m\u001b[0;34m.\u001b[0m\u001b[0mtext\u001b[0m\u001b[0;34m)\u001b[0m\u001b[0;34m\u001b[0m\u001b[0;34m\u001b[0m\u001b[0m\n\u001b[0m\u001b[1;32m    411\u001b[0m         \u001b[0m_process_uploaded_resource\u001b[0m\u001b[0;34m(\u001b[0m\u001b[0mresource\u001b[0m\u001b[0;34m,\u001b[0m \u001b[0mresp\u001b[0m\u001b[0;34m.\u001b[0m\u001b[0mjson\u001b[0m\u001b[0;34m(\u001b[0m\u001b[0;34m)\u001b[0m\u001b[0;34m[\u001b[0m\u001b[0;34m'links'\u001b[0m\u001b[0;34m]\u001b[0m\u001b[0;34m[\u001b[0m\u001b[0;34m'self'\u001b[0m\u001b[0;34m]\u001b[0m\u001b[0;34m)\u001b[0m\u001b[0;34m\u001b[0m\u001b[0;34m\u001b[0m\u001b[0m\n\u001b[1;32m    412\u001b[0m         \u001b[0;32mif\u001b[0m \u001b[0misinstance\u001b[0m\u001b[0;34m(\u001b[0m\u001b[0mresource\u001b[0m\u001b[0;34m,\u001b[0m \u001b[0mfiles\u001b[0m\u001b[0;34m.\u001b[0m\u001b[0mbase\u001b[0m\u001b[0;34m.\u001b[0m\u001b[0m_BaseFile\u001b[0m\u001b[0;34m)\u001b[0m\u001b[0;34m:\u001b[0m\u001b[0;34m\u001b[0m\u001b[0;34m\u001b[0m\u001b[0m\n",
      "\u001b[0;31mValueError\u001b[0m: {\"message\": \"Validation failed\", \"errors\": [{\"message\": \"The Union property 'defaults' of a PostRequest instance must be an instance of OptionsPoints or an instance of OptionsText. An invalid value of <resources_spatial.options.OptionsPoints object at 0x7f00dc04f208> <class 'resources_spatial.options.OptionsPoints'> was specified. Possible explanation:\\n    - Mapping on visualization options must also be presenton the data object\\n    - The InstanceSnapshot property 'defaults' of a PostRequest instance must be an instance of OptionsText. An invalid value of <resources_spatial.options.OptionsPoints object at 0x7f00dc04f208> <class 'resources_spatial.options.OptionsPoints'> was specified.\", \"code\": \"invalid\", \"field\": \"defaults\", \"resource\": \"elements/pointset\"}]}"
     ]
    }
   ],
   "source": [
    "url = session.upload(build_view())"
   ]
  },
  {
   "cell_type": "code",
   "execution_count": 92,
   "metadata": {},
   "outputs": [],
   "source": [
    "from seequent.resources import spatial"
   ]
  },
  {
   "cell_type": "code",
   "execution_count": 93,
   "metadata": {},
   "outputs": [
    {
     "data": {
      "text/plain": [
       "'/usr/local/lib/python3.6/site-packages/seequent/resources/spatial/__init__.py'"
      ]
     },
     "execution_count": 93,
     "metadata": {},
     "output_type": "execute_result"
    }
   ],
   "source": [
    "spatial.__file__"
   ]
  },
  {
   "cell_type": "code",
   "execution_count": 87,
   "metadata": {},
   "outputs": [
    {
     "name": "stdout",
     "output_type": "stream",
     "text": [
      "https://lfview.com/api/v1/project/ibsnjt5onj6qjlceabzz/default/views/k796nnuh22jk78kunov1\n"
     ]
    }
   ],
   "source": [
    "print(url)"
   ]
  },
  {
   "cell_type": "code",
   "execution_count": 154,
   "metadata": {},
   "outputs": [],
   "source": [
    "view_url = 'https://lfview.com/app/ibsnjt5onj6qjlceabzz/default/rz6vaazwq681yaymisx6'"
   ]
  },
  {
   "cell_type": "code",
   "execution_count": 155,
   "metadata": {},
   "outputs": [],
   "source": [
    "slide_url = 'https://lfview.com/api/v1/view/ibsnjt5onj6qjlceabzz/default/rz6vaazwq681yaymisx6/slides/df4s62l5obb6i4off40o'"
   ]
  },
  {
   "cell_type": "code",
   "execution_count": 156,
   "metadata": {},
   "outputs": [
    {
     "data": {
      "text/plain": [
       "'https://lfview.com/api/v1/view/ibsnjt5onj6qjlceabzz/default/rz6vaazwq681yaymisx6/slides/df4s62l5obb6i4off40o'"
      ]
     },
     "execution_count": 156,
     "metadata": {},
     "output_type": "execute_result"
    }
   ],
   "source": [
    "# Get original version of the url - use /app/ url\n",
    "old_view = session.download(view_url, copy=False)\n",
    "\n",
    "# Get new copy of the view and upload it\n",
    "new_view = session.download(view_url, copy=True)\n",
    "session.upload(new_view)\n",
    "\n",
    "# Build lookup dict that matches project-service urls of original view to new view\n",
    "project_url_lookup = {}\n",
    "for i, elem in enumerate(old_view.elements):\n",
    "    project_url_lookup[elem._url] = new_view.elements[i]._url\n",
    "    for j, data in enumerate(elem.data):\n",
    "        project_url_lookup[data._url] = new_view.elements[i].data[j]._url\n",
    "        for k, mapping in enumerate(getattr(data, 'mappings', [])):\n",
    "            project_url_lookup[mapping._url] = new_view.elements[i].data[j].mappings[k]._url\n",
    "\n",
    "# Convert the urls in the lookup dict from project-service to view-service\n",
    "def convert(url, view_uid):\n",
    "    url = url.replace('/api/v1/project/', '/api/v1/view/')\n",
    "    url = url.replace('/default/', '/default/{}/'.format(view_uid))\n",
    "    return url\n",
    "\n",
    "view_url_lookup = {}\n",
    "for key, val in project_url_lookup.items():\n",
    "    old_view_uid = old_view._url.split('/')[-1]\n",
    "    new_view_uid = new_view._url.split('/')[-1]\n",
    "    new_key = convert(key, old_view_uid)\n",
    "    new_val = convert(val, new_view_uid)\n",
    "    view_url_lookup[new_key] = new_val\n",
    "\n",
    "# Download the old slide\n",
    "slide = session.download(slide_url)\n",
    "\n",
    "# Replace element/data/mapping urls everywhere they show up.\n",
    "# I think this is all you need?\n",
    "for v in slide.scene.plots[0].views:\n",
    "    v.element = view_url_lookup[v.element]\n",
    "    if v.color.data in view_url_lookup:\n",
    "        v.color.data = view_url_lookup[v.color.data]\n",
    "    if v.color.mapping in view_url_lookup:\n",
    "        v.color.mapping = view_url_lookup[v.color.mapping]\n",
    "    if hasattr(v, 'textures'):\n",
    "        for tex in v.textures:\n",
    "            if tex.data in view_url_lookup:\n",
    "                tex.data = view_url_lookup[tex.data]\n",
    "\n",
    "# Upload a new version of the slide\n",
    "session.upload_slide(slide, new_view._url)"
   ]
  },
  {
   "cell_type": "code",
   "execution_count": 122,
   "metadata": {},
   "outputs": [
    {
     "name": "stdout",
     "output_type": "stream",
     "text": [
      "1\n"
     ]
    }
   ],
   "source": [
    "# Get original version of the url - use /app/ url\n",
    "print('1')\n",
    "old_view = session.download(view_url, copy=False)"
   ]
  },
  {
   "cell_type": "code",
   "execution_count": 123,
   "metadata": {},
   "outputs": [
    {
     "name": "stdout",
     "output_type": "stream",
     "text": [
      "2\n"
     ]
    },
    {
     "data": {
      "text/plain": [
       "'https://lfview.com/api/v1/project/ibsnjt5onj6qjlceabzz/default/views/dbmq4lhd1hfxki91dr4o'"
      ]
     },
     "execution_count": 123,
     "metadata": {},
     "output_type": "execute_result"
    }
   ],
   "source": [
    "# Get new copy of the view and upload it\n",
    "print('2')\n",
    "new_view = session.download(view_url, copy=True)\n",
    "session.upload(new_view)\n",
    "\n"
   ]
  },
  {
   "cell_type": "code",
   "execution_count": 147,
   "metadata": {},
   "outputs": [
    {
     "name": "stdout",
     "output_type": "stream",
     "text": [
      "3\n"
     ]
    }
   ],
   "source": [
    "# Build lookup dict that matches project-service urls of original view to new view\n",
    "print('3')\n",
    "project_url_lookup = {}\n",
    "for i, elem in enumerate(old_view.elements):\n",
    "    project_url_lookup[elem._url] = new_view.elements[i]._url\n",
    "    for j, data in enumerate(elem.data):\n",
    "        project_url_lookup[data._url] = new_view.elements[i].data[j]._url\n",
    "        for k, mapping in enumerate(getattr(data, 'mappings', [])):\n",
    "            project_url_lookup[mapping._url] = new_view.elements[i].data[j].mappings[k]._url\n",
    "\n"
   ]
  },
  {
   "cell_type": "code",
   "execution_count": 148,
   "metadata": {},
   "outputs": [
    {
     "name": "stdout",
     "output_type": "stream",
     "text": [
      "4\n"
     ]
    }
   ],
   "source": [
    "# Convert the urls in the lookup dict from project-service to view-service\n",
    "print('4')\n",
    "def convert(url, view_uid):\n",
    "    url = url.replace('/api/v1/project/', '/api/v1/view/')\n",
    "    url = url.replace('/default/', '/default/{}/'.format(view_uid))\n",
    "    return url\n",
    "\n",
    "view_url_lookup = {}\n",
    "for key, val in project_url_lookup.items():\n",
    "    old_view_uid = old_view._url.split('/')[-1]\n",
    "    new_view_uid = new_view._url.split('/')[-1]\n",
    "    new_key = convert(key, old_view_uid)\n",
    "    new_val = convert(val, new_view_uid)\n",
    "    view_url_lookup[new_key] = new_val\n"
   ]
  },
  {
   "cell_type": "code",
   "execution_count": 150,
   "metadata": {},
   "outputs": [
    {
     "name": "stdout",
     "output_type": "stream",
     "text": [
      "dict_values(['https://lfview.com/api/v1/view/ibsnjt5onj6qjlceabzz/default/dbmq4lhd1hfxki91dr4o/elements/pointset/p0twq6x4tgxspfqy6h55', 'https://lfview.com/api/v1/view/ibsnjt5onj6qjlceabzz/default/dbmq4lhd1hfxki91dr4o/data/basic/hqsxak66x8u1118uxxsj', 'https://lfview.com/api/v1/view/ibsnjt5onj6qjlceabzz/default/dbmq4lhd1hfxki91dr4o/data/basic/ezv7cls5hzy0gv2uz5nu', 'https://lfview.com/api/v1/view/ibsnjt5onj6qjlceabzz/default/dbmq4lhd1hfxki91dr4o/mappings/discrete/uvav9bvwh9jq2cq3mf1k'])\n"
     ]
    }
   ],
   "source": [
    "print(view_url_lookup.values())"
   ]
  },
  {
   "cell_type": "code",
   "execution_count": 151,
   "metadata": {},
   "outputs": [
    {
     "name": "stdout",
     "output_type": "stream",
     "text": [
      "5\n"
     ]
    }
   ],
   "source": [
    "\n",
    "# Download the old slide\n",
    "print('5')\n",
    "slide = session.download(slide_url)\n",
    "\n"
   ]
  },
  {
   "cell_type": "code",
   "execution_count": 152,
   "metadata": {},
   "outputs": [
    {
     "name": "stdout",
     "output_type": "stream",
     "text": [
      "6\n"
     ]
    }
   ],
   "source": [
    "# Replace element/data/mapping urls everywhere they show up.\n",
    "# I think this is all you need?\n",
    "print('6')\n",
    "for v in slide.scene.plots[0].views:\n",
    "    v.element = view_url_lookup[v.element]\n",
    "    if v.color.data in view_url_lookup:\n",
    "        v.color.data = view_url_lookup[v.color.data]\n",
    "    if v.color.mapping in view_url_lookup:\n",
    "        v.color.mapping = view_url_lookup[v.color.mapping]\n",
    "    if hasattr(v, 'textures'):\n",
    "        for tex in v.textures:\n",
    "            if tex.data in view_url_lookup:\n",
    "                tex.data = view_url_lookup[tex.data]\n"
   ]
  },
  {
   "cell_type": "code",
   "execution_count": 153,
   "metadata": {},
   "outputs": [
    {
     "name": "stdout",
     "output_type": "stream",
     "text": [
      "7\n"
     ]
    },
    {
     "data": {
      "text/plain": [
       "'https://lfview.com/api/v1/view/ibsnjt5onj6qjlceabzz/default/rz6vaazwq681yaymisx6/slides/df4s62l5obb6i4off40o'"
      ]
     },
     "execution_count": 153,
     "metadata": {},
     "output_type": "execute_result"
    }
   ],
   "source": [
    "\n",
    "# Upload a new version of the slide\n",
    "print('7')\n",
    "session.upload_slide(slide, new_view._url)"
   ]
  },
  {
   "cell_type": "code",
   "execution_count": 144,
   "metadata": {},
   "outputs": [
    {
     "data": {
      "text/plain": [
       "'https://lfview.com/api/v1/project/ibsnjt5onj6qjlceabzz/default/elements/pointset/o3qq8q3d89arlgz0jk6h'"
      ]
     },
     "execution_count": 144,
     "metadata": {},
     "output_type": "execute_result"
    }
   ],
   "source": [
    "old_view.elements[0]._url"
   ]
  },
  {
   "cell_type": "code",
   "execution_count": 143,
   "metadata": {},
   "outputs": [
    {
     "data": {
      "text/plain": [
       "{'visible': True,\n",
       " 'opacity': {'value': 1.0},\n",
       " 'color': {'value': '#DBDB8D',\n",
       "  'data': 'https://lfview.com/api/v1/view/ibsnjt5onj6qjlceabzz/default/dbmq4lhd1hfxki91dr4o/data/basic/nzphww49fwyvfrshwtr1',\n",
       "  'mapping': 'https://lfview.com/api/v1/view/ibsnjt5onj6qjlceabzz/default/dbmq4lhd1hfxki91dr4o/mappings/discrete/e1c8qf9apqi6rb3m580z'},\n",
       " 'slice_group': 'slice_group',\n",
       " 'element': 'https://lfview.com/api/v1/view/ibsnjt5onj6qjlceabzz/default/dbmq4lhd1hfxki91dr4o/elements/pointset/o3qq8q3d89arlgz0jk6h',\n",
       " '__class__': 'PointSet'}"
      ]
     },
     "execution_count": 143,
     "metadata": {},
     "output_type": "execute_result"
    }
   ],
   "source": [
    "slide.scene.plots[0].views[0].serialize()"
   ]
  },
  {
   "cell_type": "code",
   "execution_count": 95,
   "metadata": {},
   "outputs": [
    {
     "data": {
      "text/plain": [
       "[2]"
      ]
     },
     "execution_count": 95,
     "metadata": {},
     "output_type": "execute_result"
    }
   ],
   "source": [
    "a = ['a', 'b', 'c']\n",
    "[ind for ind, val in enumerate(a) if val == 'c']"
   ]
  },
  {
   "cell_type": "code",
   "execution_count": 98,
   "metadata": {},
   "outputs": [
    {
     "data": {
      "text/plain": [
       "['c', 'a', 'b']"
      ]
     },
     "execution_count": 98,
     "metadata": {},
     "output_type": "execute_result"
    }
   ],
   "source": [
    "index = 2\n",
    "[a[index]] + a[:index] + a[index+1:]"
   ]
  },
  {
   "cell_type": "code",
   "execution_count": 103,
   "metadata": {},
   "outputs": [
    {
     "name": "stdout",
     "output_type": "stream",
     "text": [
      "None\n"
     ]
    }
   ],
   "source": [
    "print(True and None)"
   ]
  },
  {
   "cell_type": "code",
   "execution_count": 13,
   "metadata": {},
   "outputs": [],
   "source": [
    "from steno3d.examples import Wolfpass"
   ]
  },
  {
   "cell_type": "code",
   "execution_count": 14,
   "metadata": {},
   "outputs": [
    {
     "name": "stdout",
     "output_type": "stream",
     "text": [
      "Fetching data...\n",
      "Destination: /root/.steno3d_client/assets/wolfpass\n",
      "    Fetching: AG_gpt.line.npy\n",
      "        Downloading archive...\n",
      "        Archive downloaded successfully!\n",
      "        Local archive found: extracting...\n",
      "... File extracted successfully!\n",
      "    Fetching: AS_ppm.line.npy\n",
      "        Local archive found: extracting...\n",
      "... File extracted successfully!\n",
      "    Fetching: AU_gpt.line.npy\n",
      "        Local archive found: extracting...\n",
      "... File extracted successfully!\n",
      "    Fetching: CU_pct.line.npy\n",
      "        Local archive found: extracting...\n",
      "... File extracted successfully!\n",
      "    Fetching: CU_pct.vol.npy\n",
      "        Local archive found: extracting...\n",
      "... File extracted successfully!\n",
      "    Fetching: CU_pct_0.75_1.0_t.cusurf.npy\n",
      "        Local archive found: extracting...\n",
      "... File extracted successfully!\n",
      "    Fetching: CU_pct_0.75_1.0_v.cusurf.npy\n",
      "        Local archive found: extracting...\n",
      "... File extracted successfully!\n",
      "    Fetching: CU_pct_1.0_1.25_t.cusurf.npy\n",
      "        Local archive found: extracting...\n",
      "... File extracted successfully!\n",
      "    Fetching: CU_pct_1.0_1.25_v.cusurf.npy\n",
      "        Local archive found: extracting...\n",
      "... File extracted successfully!\n",
      "    Fetching: CU_pct_1.25_1.5_t.cusurf.npy\n",
      "        Local archive found: extracting...\n",
      "... File extracted successfully!\n",
      "    Fetching: CU_pct_1.25_1.5_v.cusurf.npy\n",
      "        Local archive found: extracting...\n",
      "... File extracted successfully!\n",
      "    Fetching: CU_pct_gt_1.5_t.cusurf.npy\n",
      "        Local archive found: extracting...\n",
      "... File extracted successfully!\n",
      "    Fetching: CU_pct_gt_1.5_v.cusurf.npy\n",
      "        Local archive found: extracting...\n",
      "... File extracted successfully!\n",
      "    Fetching: CU_pct_lt_0.75_t.cusurf.npy\n",
      "        Local archive found: extracting...\n",
      "... File extracted successfully!\n",
      "    Fetching: CU_pct_lt_0.75_v.cusurf.npy\n",
      "        Local archive found: extracting...\n",
      "... File extracted successfully!\n",
      "    Fetching: Density.line.npy\n",
      "        Local archive found: extracting...\n",
      "... File extracted successfully!\n",
      "    Fetching: MO_ppm.line.npy\n",
      "        Local archive found: extracting...\n",
      "... File extracted successfully!\n",
      "    Fetching: Recov.line.npy\n",
      "        Local archive found: extracting...\n",
      "... File extracted successfully!\n",
      "    Fetching: S_pct.line.npy\n",
      "        Local archive found: extracting...\n",
      "... File extracted successfully!\n",
      "    Fetching: basement_t.lithsurf.npy\n",
      "        Local archive found: extracting...\n",
      "... File extracted successfully!\n",
      "    Fetching: basement_v.lithsurf.npy\n",
      "        Local archive found: extracting...\n",
      "... File extracted successfully!\n",
      "    Fetching: boreholes_s.line.npy\n",
      "        Local archive found: extracting...\n",
      "... File extracted successfully!\n",
      "    Fetching: boreholes_v.line.npy\n",
      "        Local archive found: extracting...\n",
      "... File extracted successfully!\n",
      "    Fetching: dacite_data.line.npy\n",
      "        Local archive found: extracting...\n",
      "... File extracted successfully!\n",
      "    Fetching: dacite_t.lithsurf.npy\n",
      "        Local archive found: extracting...\n",
      "... File extracted successfully!\n",
      "    Fetching: dacite_v.lithsurf.npy\n",
      "        Local archive found: extracting...\n",
      "... File extracted successfully!\n",
      "    Fetching: diorite_early_t.lithsurf.npy\n",
      "        Local archive found: extracting...\n",
      "... File extracted successfully!\n",
      "    Fetching: diorite_early_v.lithsurf.npy\n",
      "        Local archive found: extracting...\n",
      "... File extracted successfully!\n",
      "    Fetching: diorite_late_t.lithsurf.npy\n",
      "        Local archive found: extracting...\n",
      "... File extracted successfully!\n",
      "    Fetching: diorite_late_v.lithsurf.npy\n",
      "        Local archive found: extracting...\n",
      "... File extracted successfully!\n",
      "    Fetching: dist_to_borehole.lithsurf.npy\n",
      "        Local archive found: extracting...\n",
      "... File extracted successfully!\n",
      "    Fetching: dist_to_borehole.vol.npy\n",
      "        Local archive found: extracting...\n",
      "... File extracted successfully!\n",
      "    Fetching: drill_loc_v.point.npy\n",
      "        Local archive found: extracting...\n",
      "... File extracted successfully!\n",
      "    Fetching: elevation.toposurf.npy\n",
      "        Local archive found: extracting...\n",
      "... File extracted successfully!\n",
      "    Fetching: lithology.xsurf.npy\n",
      "        Local archive found: extracting...\n",
      "... File extracted successfully!\n",
      "    Fetching: maxdepth.point.npy\n",
      "        Local archive found: extracting...\n",
      "... File extracted successfully!\n",
      "    Fetching: ovb_t.lithsurf.npy\n",
      "        Local archive found: extracting...\n",
      "... File extracted successfully!\n",
      "    Fetching: ovb_v.lithsurf.npy\n",
      "        Local archive found: extracting...\n",
      "... File extracted successfully!\n",
      "    Fetching: section_number.xsurf.npy\n",
      "        Local archive found: extracting...\n",
      "... File extracted successfully!\n",
      "    Fetching: topo_t.toposurf.npy\n",
      "        Local archive found: extracting...\n",
      "... File extracted successfully!\n",
      "    Fetching: topo_v.toposurf.npy\n",
      "        Local archive found: extracting...\n",
      "... File extracted successfully!\n",
      "    Fetching: topography.png\n",
      "        Local archive found: extracting...\n",
      "... File extracted successfully!\n",
      "    Fetching: trench.point.npy\n",
      "        Local archive found: extracting...\n",
      "... File extracted successfully!\n",
      "    Fetching: vol_h1.vol.npy\n",
      "        Local archive found: extracting...\n",
      "... File extracted successfully!\n",
      "    Fetching: vol_h2.vol.npy\n",
      "        Local archive found: extracting...\n",
      "... File extracted successfully!\n",
      "    Fetching: vol_h3.vol.npy\n",
      "        Local archive found: extracting...\n",
      "... File extracted successfully!\n",
      "    Fetching: vol_x0.vol.npy\n",
      "        Local archive found: extracting...\n",
      "... File extracted successfully!\n",
      "    Fetching: xsect_t.xsurf.npy\n",
      "        Local archive found: extracting...\n",
      "... File extracted successfully!\n",
      "    Fetching: xsect_v.xsurf.npy\n",
      "        Local archive found: extracting...\n",
      "... File extracted successfully!\n"
     ]
    }
   ],
   "source": [
    "Wolfpass.fetch_data()"
   ]
  },
  {
   "cell_type": "code",
   "execution_count": 40,
   "metadata": {},
   "outputs": [
    {
     "name": "stderr",
     "output_type": "stream",
     "text": [
      "/usr/local/lib/python3.6/site-packages/properties/base/base.py:297: FutureWarning: \n",
      "Property 'x0' is deprecated and may be removed in the future. Please use 'O'.\n",
      "  setattr(self, key, val)\n"
     ]
    }
   ],
   "source": [
    "proj = Wolfpass.get_project()"
   ]
  },
  {
   "cell_type": "code",
   "execution_count": 17,
   "metadata": {},
   "outputs": [],
   "source": [
    "import steno3d"
   ]
  },
  {
   "cell_type": "code",
   "execution_count": 18,
   "metadata": {},
   "outputs": [],
   "source": [
    "steno3d.DataCategory?"
   ]
  },
  {
   "cell_type": "code",
   "execution_count": 44,
   "metadata": {},
   "outputs": [],
   "source": [
    "proj.resources[0].data = [{\n",
    "    'location': 'n',\n",
    "    'data': steno3d.DataCategory(\n",
    "        array=[0]*20 + [1]*20 + [2]*15,\n",
    "    )\n",
    "}]"
   ]
  },
  {
   "cell_type": "code",
   "execution_count": 45,
   "metadata": {},
   "outputs": [
    {
     "data": {
      "text/plain": [
       "<steno3d.data.DataCategory at 0x7f1219bb77b8>"
      ]
     },
     "execution_count": 45,
     "metadata": {},
     "output_type": "execute_result"
    }
   ],
   "source": [
    "proj.resources[0].data[0].data"
   ]
  },
  {
   "cell_type": "code",
   "execution_count": 46,
   "metadata": {},
   "outputs": [],
   "source": [
    "from seequent.client import convert"
   ]
  },
  {
   "cell_type": "code",
   "execution_count": 47,
   "metadata": {},
   "outputs": [],
   "source": [
    "view = convert.steno3d_to_view(proj)"
   ]
  },
  {
   "cell_type": "code",
   "execution_count": 48,
   "metadata": {},
   "outputs": [],
   "source": [
    "view.elements = [view.elements[0]]"
   ]
  },
  {
   "cell_type": "code",
   "execution_count": 49,
   "metadata": {},
   "outputs": [
    {
     "data": {
      "text/plain": [
       "True"
      ]
     },
     "execution_count": 49,
     "metadata": {},
     "output_type": "execute_result"
    }
   ],
   "source": [
    "view.validate()"
   ]
  },
  {
   "cell_type": "code",
   "execution_count": 50,
   "metadata": {},
   "outputs": [],
   "source": [
    "view.contents = []"
   ]
  },
  {
   "cell_type": "code",
   "execution_count": 51,
   "metadata": {},
   "outputs": [
    {
     "name": "stdout",
     "output_type": "stream",
     "text": [
      "uploading Array\n",
      "uploading binary array data\n",
      "success!\n",
      "uploading MappingCategory\n",
      "success!\n",
      "uploading MappingCategory\n",
      "success!\n",
      "uploading DataCategory\n",
      "success!\n",
      "uploading Array\n",
      "uploading binary array data\n",
      "success!\n",
      "uploading ElementPointSet\n",
      "success!\n",
      "uploading View\n",
      "success!\n"
     ]
    }
   ],
   "source": [
    "url = session.upload(view, verbose=True)"
   ]
  },
  {
   "cell_type": "code",
   "execution_count": 57,
   "metadata": {},
   "outputs": [
    {
     "name": "stdout",
     "output_type": "stream",
     "text": [
      "https://lfview.com/api/v1/project/ibsnjt5onj6qjlceabzz/default/views/kp79p66kx3agau3vx6zg\n"
     ]
    }
   ],
   "source": [
    "print(url)"
   ]
  },
  {
   "cell_type": "code",
   "execution_count": null,
   "metadata": {},
   "outputs": [],
   "source": []
  }
 ],
 "metadata": {
  "kernelspec": {
   "display_name": "Python 3",
   "language": "python",
   "name": "python3"
  }
 },
 "nbformat": 4,
 "nbformat_minor": 2
}
